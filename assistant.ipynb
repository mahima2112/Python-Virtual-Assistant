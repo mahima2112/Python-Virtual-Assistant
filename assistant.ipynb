# various imports 

import wx 
import wolframalpha
from six.moves import input
import wikipedia

# Structure of the Assistant Window
class MyFrame(wx.Frame):
    def __init__(self):
        wx.Frame.__init__(self, None,
            pos=wx.DefaultPosition, size=wx.Size(450, 150),
            style=wx.MINIMIZE_BOX | wx.SYSTEM_MENU | wx.CAPTION |
             wx.CLOSE_BOX | wx.CLIP_CHILDREN,
            title="Virtual Assistant")
        panel = wx.Panel(self)
        my_sizer = wx.BoxSizer(wx.VERTICAL)
        lbl = wx.StaticText(panel,
        label="Hello I am the Python Digital Assistant. How can I help you?")
        my_sizer.Add(lbl, 0, wx.ALL, 5)
        self.txt = wx.TextCtrl(panel, style=wx.TE_PROCESS_ENTER,size=(400,30))
        self.txt.SetFocus()
        self.txt.Bind(wx.EVT_TEXT_ENTER, self.OnEnter)
        my_sizer.Add(self.txt, 0, wx.ALL, 5)
        panel.SetSizer(my_sizer)
        self.Show()
        
    def OnEnter(self,event):
        inp = self.txt.GetValue()
        inp = inp.lower()
      #  print("It worked")
        try:
            app_id = "QRR64U-32VAJ2H99V"

            client = wolframalpha.Client(app_id)
            res = client.query(inp)

        # to make sure that wolframalpha doesnt give a graph but the correct answer
            answer = next(res.results).text

            print(answer)
           
        except:
            inp = inp.split(' ')
            inp = " ".join(inp[2:])
           
            print(wikipedia.summary(inp,sentences = 5)) # to get only 5 line summary
        
        
if __name__=="__main__":
    app = wx.App(True)
    frame = MyFrame()
    app.MainLoop()
